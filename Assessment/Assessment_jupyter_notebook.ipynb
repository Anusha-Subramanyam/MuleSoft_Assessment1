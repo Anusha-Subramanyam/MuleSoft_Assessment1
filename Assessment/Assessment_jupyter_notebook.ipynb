{
 "cells": [
  {
   "cell_type": "markdown",
   "id": "eabefffe",
   "metadata": {},
   "source": [
    "# MuleSoft Assessment\n",
    "<h4><i>Submitted by:</i></h4>\n",
    "<blockquote>Anusha Subramanyam <br /> Vidyavardhaka College of Engineering <br /> CSE-A, 4VV19CS015</blockquote>"
   ]
  },
  {
   "cell_type": "code",
   "execution_count": 1,
   "id": "d5876d20",
   "metadata": {},
   "outputs": [],
   "source": [
    "import sqlite3\n",
    "import pandas as pd"
   ]
  },
  {
   "cell_type": "markdown",
   "id": "73dec022",
   "metadata": {},
   "source": [
    "### Creating Database"
   ]
  },
  {
   "cell_type": "code",
   "execution_count": 2,
   "id": "45b5a989",
   "metadata": {},
   "outputs": [
    {
     "name": "stdout",
     "output_type": "stream",
     "text": [
      "Database Created\n"
     ]
    }
   ],
   "source": [
    "conn = sqlite3.connect('Movie.db')\n",
    "print(\"Database Created\")"
   ]
  },
  {
   "cell_type": "code",
   "execution_count": 3,
   "id": "4b7df95e",
   "metadata": {},
   "outputs": [],
   "source": [
    "conn = sqlite3.connect(':memory:')"
   ]
  },
  {
   "cell_type": "code",
   "execution_count": 4,
   "id": "afe2caf5",
   "metadata": {},
   "outputs": [],
   "source": [
    "cur = conn.cursor()"
   ]
  },
  {
   "cell_type": "markdown",
   "id": "558b11aa",
   "metadata": {},
   "source": [
    "### Creating Table"
   ]
  },
  {
   "cell_type": "code",
   "execution_count": 5,
   "id": "e7888af0",
   "metadata": {
    "scrolled": true
   },
   "outputs": [
    {
     "name": "stdout",
     "output_type": "stream",
     "text": [
      "Table Created\n"
     ]
    }
   ],
   "source": [
    "conn.execute(\"\"\"CREATE TABLE movies(\n",
    "            name text, \n",
    "            actor text,\n",
    "            actress text,\n",
    "            director text,\n",
    "            year_of_release integer\n",
    "            )\"\"\")\n",
    "print(\"Table Created\")"
   ]
  },
  {
   "cell_type": "markdown",
   "id": "d2561af5",
   "metadata": {},
   "source": [
    "### Inserting Values into the table"
   ]
  },
  {
   "cell_type": "code",
   "execution_count": 6,
   "id": "a0732f37",
   "metadata": {},
   "outputs": [],
   "source": [
    "def insert_data(name, actor, actress, director, year_of_release):\n",
    "    cur.execute(\"INSERT INTO movies VALUES (?, ?, ?, ?, ?)\", \n",
    "                (name, actor, actress, director, year_of_release))"
   ]
  },
  {
   "cell_type": "code",
   "execution_count": 7,
   "id": "f8e6b403",
   "metadata": {},
   "outputs": [],
   "source": [
    "insert_data('Kabhi Khushi Kabhi Ghum', 'SRK', 'Kajol', 'Karan Johar', 2001)"
   ]
  },
  {
   "cell_type": "code",
   "execution_count": 8,
   "id": "793fcd6a",
   "metadata": {},
   "outputs": [],
   "source": [
    "insert_data('Heropanti','Tiger Shroff','Kriti Sanon','Sabbir Khan',2014)"
   ]
  },
  {
   "cell_type": "code",
   "execution_count": 9,
   "id": "2fe8c486",
   "metadata": {},
   "outputs": [],
   "source": [
    "insert_data('Krrish','Hrithik Roshan','Priyanka Chopra','Rakesh Roshan',2003)"
   ]
  },
  {
   "cell_type": "code",
   "execution_count": 10,
   "id": "8e96689e",
   "metadata": {},
   "outputs": [],
   "source": [
    "insert_data('Chennai Express','SRK','Deepika','Rohit Shetty',2013)"
   ]
  },
  {
   "cell_type": "code",
   "execution_count": 11,
   "id": "55458d78",
   "metadata": {},
   "outputs": [],
   "source": [
    "insert_data('URI','Vicky Kaushal','Yami Gautam','Aditya Dhar',2019)"
   ]
  },
  {
   "cell_type": "code",
   "execution_count": 12,
   "id": "26e558c1",
   "metadata": {},
   "outputs": [],
   "source": [
    "insert_data('Kesari','Akshay Kumar','Parineeti Chopra','Anurag Singh',2019)"
   ]
  },
  {
   "cell_type": "code",
   "execution_count": 13,
   "id": "b681c688",
   "metadata": {},
   "outputs": [],
   "source": [
    "insert_data('Bhaghi-3','Tiger Shroff','Shradha kapoor','Ahmed Khan',2020)"
   ]
  },
  {
   "cell_type": "code",
   "execution_count": 14,
   "id": "01f9a6da",
   "metadata": {},
   "outputs": [],
   "source": [
    "insert_data('Mission Mangal','Akshay Kumar','Vidya Balan','Jagan Shakti',2019)"
   ]
  },
  {
   "cell_type": "code",
   "execution_count": 15,
   "id": "86a954a0",
   "metadata": {},
   "outputs": [],
   "source": [
    "insert_data('Raazi','Vicky Kaushal','Alia Bhat','Meghana Gulzar',2018)"
   ]
  },
  {
   "cell_type": "code",
   "execution_count": 16,
   "id": "0ea0edf0",
   "metadata": {},
   "outputs": [],
   "source": [
    "insert_data('Shershaah','Sidharth Malhotra','Kiara Advani','Vishnuvardhan',2021)"
   ]
  },
  {
   "cell_type": "markdown",
   "id": "b4a4ba1f",
   "metadata": {},
   "source": [
    "### Querying data from the database"
   ]
  },
  {
   "cell_type": "markdown",
   "id": "6211325d",
   "metadata": {},
   "source": [
    "* ### Querying the movies table using SELECT statement"
   ]
  },
  {
   "cell_type": "code",
   "execution_count": 17,
   "id": "3d2ef3ad",
   "metadata": {},
   "outputs": [
    {
     "name": "stdout",
     "output_type": "stream",
     "text": [
      "('Kabhi Khushi Kabhi Ghum', 'SRK', 'Kajol', 'Karan Johar', 2001)\n",
      "('Heropanti', 'Tiger Shroff', 'Kriti Sanon', 'Sabbir Khan', 2014)\n",
      "('Krrish', 'Hrithik Roshan', 'Priyanka Chopra', 'Rakesh Roshan', 2003)\n",
      "('Chennai Express', 'SRK', 'Deepika', 'Rohit Shetty', 2013)\n",
      "('URI', 'Vicky Kaushal', 'Yami Gautam', 'Aditya Dhar', 2019)\n",
      "('Kesari', 'Akshay Kumar', 'Parineeti Chopra', 'Anurag Singh', 2019)\n",
      "('Bhaghi-3', 'Tiger Shroff', 'Shradha kapoor', 'Ahmed Khan', 2020)\n",
      "('Mission Mangal', 'Akshay Kumar', 'Vidya Balan', 'Jagan Shakti', 2019)\n",
      "('Raazi', 'Vicky Kaushal', 'Alia Bhat', 'Meghana Gulzar', 2018)\n",
      "('Shershaah', 'Sidharth Malhotra', 'Kiara Advani', 'Vishnuvardhan', 2021)\n"
     ]
    }
   ],
   "source": [
    "data = cur.execute(\"SELECT * FROM movies\")\n",
    "rows = cur.fetchall()\n",
    "for i in rows:\n",
    "    print(i)"
   ]
  },
  {
   "cell_type": "code",
   "execution_count": 18,
   "id": "b69820a9",
   "metadata": {
    "scrolled": true
   },
   "outputs": [],
   "source": [
    "col_names = [cn[0] for cn in cur.description]"
   ]
  },
  {
   "cell_type": "code",
   "execution_count": 19,
   "id": "c3d412c7",
   "metadata": {},
   "outputs": [
    {
     "name": "stdout",
     "output_type": "stream",
     "text": [
      "name                      actor                actress              director             year_of_release\n",
      "Kabhi Khushi Kabhi Ghum   SRK                  Kajol                Karan Johar          2001\n",
      "Heropanti                 Tiger Shroff         Kriti Sanon          Sabbir Khan          2014\n",
      "Krrish                    Hrithik Roshan       Priyanka Chopra      Rakesh Roshan        2003\n",
      "Chennai Express           SRK                  Deepika              Rohit Shetty         2013\n",
      "URI                       Vicky Kaushal        Yami Gautam          Aditya Dhar          2019\n",
      "Kesari                    Akshay Kumar         Parineeti Chopra     Anurag Singh         2019\n",
      "Bhaghi-3                  Tiger Shroff         Shradha kapoor       Ahmed Khan           2020\n",
      "Mission Mangal            Akshay Kumar         Vidya Balan          Jagan Shakti         2019\n",
      "Raazi                     Vicky Kaushal        Alia Bhat            Meghana Gulzar       2018\n",
      "Shershaah                 Sidharth Malhotra    Kiara Advani         Vishnuvardhan        2021\n"
     ]
    }
   ],
   "source": [
    "print(\"{:25} {:20} {:20} {:20} {:4}\".format(col_names[0], col_names[1], col_names[2], col_names[3], col_names[4]))\n",
    "for row in rows:\n",
    "    print(\"{:<25} {:<20} {:20} {:20} {:4}\".format(row[0], row[1], row[2], row[3], row[4]))"
   ]
  },
  {
   "cell_type": "code",
   "execution_count": 20,
   "id": "f258203a",
   "metadata": {
    "scrolled": true
   },
   "outputs": [
    {
     "data": {
      "text/html": [
       "<div>\n",
       "<style scoped>\n",
       "    .dataframe tbody tr th:only-of-type {\n",
       "        vertical-align: middle;\n",
       "    }\n",
       "\n",
       "    .dataframe tbody tr th {\n",
       "        vertical-align: top;\n",
       "    }\n",
       "\n",
       "    .dataframe thead th {\n",
       "        text-align: right;\n",
       "    }\n",
       "</style>\n",
       "<table border=\"1\" class=\"dataframe\">\n",
       "  <thead>\n",
       "    <tr style=\"text-align: right;\">\n",
       "      <th></th>\n",
       "      <th>0</th>\n",
       "      <th>1</th>\n",
       "      <th>2</th>\n",
       "      <th>3</th>\n",
       "      <th>4</th>\n",
       "    </tr>\n",
       "  </thead>\n",
       "  <tbody>\n",
       "    <tr>\n",
       "      <th>0</th>\n",
       "      <td>Kabhi Khushi Kabhi Ghum</td>\n",
       "      <td>SRK</td>\n",
       "      <td>Kajol</td>\n",
       "      <td>Karan Johar</td>\n",
       "      <td>2001</td>\n",
       "    </tr>\n",
       "    <tr>\n",
       "      <th>1</th>\n",
       "      <td>Heropanti</td>\n",
       "      <td>Tiger Shroff</td>\n",
       "      <td>Kriti Sanon</td>\n",
       "      <td>Sabbir Khan</td>\n",
       "      <td>2014</td>\n",
       "    </tr>\n",
       "    <tr>\n",
       "      <th>2</th>\n",
       "      <td>Krrish</td>\n",
       "      <td>Hrithik Roshan</td>\n",
       "      <td>Priyanka Chopra</td>\n",
       "      <td>Rakesh Roshan</td>\n",
       "      <td>2003</td>\n",
       "    </tr>\n",
       "    <tr>\n",
       "      <th>3</th>\n",
       "      <td>Chennai Express</td>\n",
       "      <td>SRK</td>\n",
       "      <td>Deepika</td>\n",
       "      <td>Rohit Shetty</td>\n",
       "      <td>2013</td>\n",
       "    </tr>\n",
       "    <tr>\n",
       "      <th>4</th>\n",
       "      <td>URI</td>\n",
       "      <td>Vicky Kaushal</td>\n",
       "      <td>Yami Gautam</td>\n",
       "      <td>Aditya Dhar</td>\n",
       "      <td>2019</td>\n",
       "    </tr>\n",
       "    <tr>\n",
       "      <th>5</th>\n",
       "      <td>Kesari</td>\n",
       "      <td>Akshay Kumar</td>\n",
       "      <td>Parineeti Chopra</td>\n",
       "      <td>Anurag Singh</td>\n",
       "      <td>2019</td>\n",
       "    </tr>\n",
       "    <tr>\n",
       "      <th>6</th>\n",
       "      <td>Bhaghi-3</td>\n",
       "      <td>Tiger Shroff</td>\n",
       "      <td>Shradha kapoor</td>\n",
       "      <td>Ahmed Khan</td>\n",
       "      <td>2020</td>\n",
       "    </tr>\n",
       "    <tr>\n",
       "      <th>7</th>\n",
       "      <td>Mission Mangal</td>\n",
       "      <td>Akshay Kumar</td>\n",
       "      <td>Vidya Balan</td>\n",
       "      <td>Jagan Shakti</td>\n",
       "      <td>2019</td>\n",
       "    </tr>\n",
       "    <tr>\n",
       "      <th>8</th>\n",
       "      <td>Raazi</td>\n",
       "      <td>Vicky Kaushal</td>\n",
       "      <td>Alia Bhat</td>\n",
       "      <td>Meghana Gulzar</td>\n",
       "      <td>2018</td>\n",
       "    </tr>\n",
       "    <tr>\n",
       "      <th>9</th>\n",
       "      <td>Shershaah</td>\n",
       "      <td>Sidharth Malhotra</td>\n",
       "      <td>Kiara Advani</td>\n",
       "      <td>Vishnuvardhan</td>\n",
       "      <td>2021</td>\n",
       "    </tr>\n",
       "  </tbody>\n",
       "</table>\n",
       "</div>"
      ],
      "text/plain": [
       "                         0                  1                 2  \\\n",
       "0  Kabhi Khushi Kabhi Ghum                SRK             Kajol   \n",
       "1                Heropanti       Tiger Shroff       Kriti Sanon   \n",
       "2                   Krrish     Hrithik Roshan   Priyanka Chopra   \n",
       "3          Chennai Express                SRK           Deepika   \n",
       "4                      URI      Vicky Kaushal       Yami Gautam   \n",
       "5                   Kesari       Akshay Kumar  Parineeti Chopra   \n",
       "6                 Bhaghi-3       Tiger Shroff    Shradha kapoor   \n",
       "7           Mission Mangal       Akshay Kumar       Vidya Balan   \n",
       "8                    Raazi      Vicky Kaushal         Alia Bhat   \n",
       "9                Shershaah  Sidharth Malhotra      Kiara Advani   \n",
       "\n",
       "                3     4  \n",
       "0     Karan Johar  2001  \n",
       "1     Sabbir Khan  2014  \n",
       "2   Rakesh Roshan  2003  \n",
       "3    Rohit Shetty  2013  \n",
       "4     Aditya Dhar  2019  \n",
       "5    Anurag Singh  2019  \n",
       "6      Ahmed Khan  2020  \n",
       "7    Jagan Shakti  2019  \n",
       "8  Meghana Gulzar  2018  \n",
       "9   Vishnuvardhan  2021  "
      ]
     },
     "execution_count": 20,
     "metadata": {},
     "output_type": "execute_result"
    }
   ],
   "source": [
    "#DataFrame Representation\n",
    "data = cur.execute(\"SELECT * FROM movies\")\n",
    "pd.DataFrame(data)"
   ]
  },
  {
   "cell_type": "markdown",
   "id": "57900314",
   "metadata": {},
   "source": [
    "* ### Query with parameter like actor name to select movies based on the actor's name"
   ]
  },
  {
   "cell_type": "code",
   "execution_count": 21,
   "id": "7f2673a3",
   "metadata": {},
   "outputs": [
    {
     "name": "stdout",
     "output_type": "stream",
     "text": [
      "('Kabhi Khushi Kabhi Ghum', 'SRK', 'Kajol', 'Karan Johar', 2001)\n",
      "('Chennai Express', 'SRK', 'Deepika', 'Rohit Shetty', 2013)\n"
     ]
    }
   ],
   "source": [
    "cur.execute(\"SELECT * FROM movies WHERE actor=:actor\",{\"actor\":\"SRK\"})\n",
    "for i in cur:\n",
    "    print(i)"
   ]
  },
  {
   "cell_type": "code",
   "execution_count": 22,
   "id": "a1ca66ed",
   "metadata": {},
   "outputs": [
    {
     "data": {
      "text/html": [
       "<div>\n",
       "<style scoped>\n",
       "    .dataframe tbody tr th:only-of-type {\n",
       "        vertical-align: middle;\n",
       "    }\n",
       "\n",
       "    .dataframe tbody tr th {\n",
       "        vertical-align: top;\n",
       "    }\n",
       "\n",
       "    .dataframe thead th {\n",
       "        text-align: right;\n",
       "    }\n",
       "</style>\n",
       "<table border=\"1\" class=\"dataframe\">\n",
       "  <thead>\n",
       "    <tr style=\"text-align: right;\">\n",
       "      <th></th>\n",
       "      <th>0</th>\n",
       "      <th>1</th>\n",
       "      <th>2</th>\n",
       "      <th>3</th>\n",
       "      <th>4</th>\n",
       "    </tr>\n",
       "  </thead>\n",
       "  <tbody>\n",
       "    <tr>\n",
       "      <th>0</th>\n",
       "      <td>Kabhi Khushi Kabhi Ghum</td>\n",
       "      <td>SRK</td>\n",
       "      <td>Kajol</td>\n",
       "      <td>Karan Johar</td>\n",
       "      <td>2001</td>\n",
       "    </tr>\n",
       "    <tr>\n",
       "      <th>1</th>\n",
       "      <td>Chennai Express</td>\n",
       "      <td>SRK</td>\n",
       "      <td>Deepika</td>\n",
       "      <td>Rohit Shetty</td>\n",
       "      <td>2013</td>\n",
       "    </tr>\n",
       "  </tbody>\n",
       "</table>\n",
       "</div>"
      ],
      "text/plain": [
       "                         0    1        2             3     4\n",
       "0  Kabhi Khushi Kabhi Ghum  SRK    Kajol   Karan Johar  2001\n",
       "1          Chennai Express  SRK  Deepika  Rohit Shetty  2013"
      ]
     },
     "execution_count": 22,
     "metadata": {},
     "output_type": "execute_result"
    }
   ],
   "source": [
    "#DataFrame Representation \n",
    "pd.DataFrame(cur.execute(\"SELECT * FROM movies WHERE actor=:actor\",{\"actor\":\"SRK\"}))"
   ]
  },
  {
   "cell_type": "markdown",
   "id": "eec2da24",
   "metadata": {},
   "source": [
    "* ### Query with parameter like year to select movies released after 2014"
   ]
  },
  {
   "cell_type": "code",
   "execution_count": 23,
   "id": "5e6395cb",
   "metadata": {},
   "outputs": [
    {
     "name": "stdout",
     "output_type": "stream",
     "text": [
      "('Heropanti', 'Sabbir Khan', 2014)\n",
      "('URI', 'Aditya Dhar', 2019)\n",
      "('Kesari', 'Anurag Singh', 2019)\n",
      "('Bhaghi-3', 'Ahmed Khan', 2020)\n",
      "('Mission Mangal', 'Jagan Shakti', 2019)\n",
      "('Raazi', 'Meghana Gulzar', 2018)\n",
      "('Shershaah', 'Vishnuvardhan', 2021)\n"
     ]
    }
   ],
   "source": [
    "cur.execute(\"SELECT name, director, year_of_release FROM movies WHERE year_of_release>=2014\")\n",
    "for i in cur:\n",
    "    print(i)"
   ]
  },
  {
   "cell_type": "code",
   "execution_count": 24,
   "id": "18c5f028",
   "metadata": {},
   "outputs": [
    {
     "data": {
      "text/html": [
       "<div>\n",
       "<style scoped>\n",
       "    .dataframe tbody tr th:only-of-type {\n",
       "        vertical-align: middle;\n",
       "    }\n",
       "\n",
       "    .dataframe tbody tr th {\n",
       "        vertical-align: top;\n",
       "    }\n",
       "\n",
       "    .dataframe thead th {\n",
       "        text-align: right;\n",
       "    }\n",
       "</style>\n",
       "<table border=\"1\" class=\"dataframe\">\n",
       "  <thead>\n",
       "    <tr style=\"text-align: right;\">\n",
       "      <th></th>\n",
       "      <th>0</th>\n",
       "      <th>1</th>\n",
       "      <th>2</th>\n",
       "    </tr>\n",
       "  </thead>\n",
       "  <tbody>\n",
       "    <tr>\n",
       "      <th>0</th>\n",
       "      <td>Heropanti</td>\n",
       "      <td>Sabbir Khan</td>\n",
       "      <td>2014</td>\n",
       "    </tr>\n",
       "    <tr>\n",
       "      <th>1</th>\n",
       "      <td>URI</td>\n",
       "      <td>Aditya Dhar</td>\n",
       "      <td>2019</td>\n",
       "    </tr>\n",
       "    <tr>\n",
       "      <th>2</th>\n",
       "      <td>Kesari</td>\n",
       "      <td>Anurag Singh</td>\n",
       "      <td>2019</td>\n",
       "    </tr>\n",
       "    <tr>\n",
       "      <th>3</th>\n",
       "      <td>Bhaghi-3</td>\n",
       "      <td>Ahmed Khan</td>\n",
       "      <td>2020</td>\n",
       "    </tr>\n",
       "    <tr>\n",
       "      <th>4</th>\n",
       "      <td>Mission Mangal</td>\n",
       "      <td>Jagan Shakti</td>\n",
       "      <td>2019</td>\n",
       "    </tr>\n",
       "    <tr>\n",
       "      <th>5</th>\n",
       "      <td>Raazi</td>\n",
       "      <td>Meghana Gulzar</td>\n",
       "      <td>2018</td>\n",
       "    </tr>\n",
       "    <tr>\n",
       "      <th>6</th>\n",
       "      <td>Shershaah</td>\n",
       "      <td>Vishnuvardhan</td>\n",
       "      <td>2021</td>\n",
       "    </tr>\n",
       "  </tbody>\n",
       "</table>\n",
       "</div>"
      ],
      "text/plain": [
       "                0               1     2\n",
       "0       Heropanti     Sabbir Khan  2014\n",
       "1             URI     Aditya Dhar  2019\n",
       "2          Kesari    Anurag Singh  2019\n",
       "3        Bhaghi-3      Ahmed Khan  2020\n",
       "4  Mission Mangal    Jagan Shakti  2019\n",
       "5           Raazi  Meghana Gulzar  2018\n",
       "6       Shershaah   Vishnuvardhan  2021"
      ]
     },
     "execution_count": 24,
     "metadata": {},
     "output_type": "execute_result"
    }
   ],
   "source": [
    "#DataFrame Representation \n",
    "pd.DataFrame(cur.execute(\"SELECT name, director, year_of_release FROM movies WHERE year_of_release>=2014\"))"
   ]
  },
  {
   "cell_type": "markdown",
   "id": "b515301b",
   "metadata": {},
   "source": [
    "### Closing Database"
   ]
  },
  {
   "cell_type": "code",
   "execution_count": 25,
   "id": "dcb575ef",
   "metadata": {},
   "outputs": [
    {
     "name": "stdout",
     "output_type": "stream",
     "text": [
      "Database Closed\n"
     ]
    }
   ],
   "source": [
    "cur.close()\n",
    "conn.commit()\n",
    "print(\"Database Closed\")"
   ]
  },
  {
   "cell_type": "code",
   "execution_count": null,
   "id": "090a48a9",
   "metadata": {},
   "outputs": [],
   "source": []
  }
 ],
 "metadata": {
  "kernelspec": {
   "display_name": "Python 3",
   "language": "python",
   "name": "python3"
  },
  "language_info": {
   "codemirror_mode": {
    "name": "ipython",
    "version": 3
   },
   "file_extension": ".py",
   "mimetype": "text/x-python",
   "name": "python",
   "nbconvert_exporter": "python",
   "pygments_lexer": "ipython3",
   "version": "3.8.8"
  }
 },
 "nbformat": 4,
 "nbformat_minor": 5
}
